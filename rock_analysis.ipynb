{
  "nbformat": 4,
  "nbformat_minor": 0,
  "metadata": {
    "colab": {
      "provenance": [],
      "gpuType": "T4"
    },
    "kernelspec": {
      "name": "python3",
      "display_name": "Python 3"
    },
    "language_info": {
      "name": "python"
    },
    "accelerator": "GPU"
  },
  "cells": [
    {
      "cell_type": "code",
      "execution_count": 1,
      "metadata": {
        "colab": {
          "base_uri": "https://localhost:8080/"
        },
        "id": "F0lvlNLJiDqO",
        "outputId": "33a336d5-96b3-4f97-d321-cb80a1168fe7"
      },
      "outputs": [
        {
          "output_type": "stream",
          "name": "stdout",
          "text": [
            "Mounted at /content/drive\n"
          ]
        }
      ],
      "source": [
        "from google.colab import drive\n",
        "drive.mount('/content/drive')"
      ]
    },
    {
      "cell_type": "code",
      "source": [
        "dest_train_path ='/content/drive/MyDrive/training_data_aug'\n",
        "dest_val_path = '/content/drive/MyDrive/Validation_data'"
      ],
      "metadata": {
        "id": "l1yu4m0diN7e"
      },
      "execution_count": 2,
      "outputs": []
    },
    {
      "cell_type": "markdown",
      "source": [
        "1) From the '360 rocks' folder create a training dataset that has 30 categories and 12 images in each category. To create the categories, group the rocks by name\n",
        "From  '120 rocks' folder create a validation dataset that has 30 categories and 4 images in each category."
      ],
      "metadata": {
        "id": "jN4XLPuA9PzF"
      }
    },
    {
      "cell_type": "markdown",
      "source": [
        "We have manually created the training set which has 30 sub folders in it each containing 12 images in each category.\n",
        "We have done the same with validation data."
      ],
      "metadata": {
        "id": "GcvPXh-h9Vim"
      }
    },
    {
      "cell_type": "markdown",
      "source": [
        "2)Build the input pipeline, including the appropriate preprocessing operations, and add data augmentation."
      ],
      "metadata": {
        "id": "cj--Ruk09rhY"
      }
    },
    {
      "cell_type": "markdown",
      "source": [
        "Code to Augment data"
      ],
      "metadata": {
        "id": "K7j5fsEy9z6T"
      }
    },
    {
      "cell_type": "code",
      "source": [
        "import os\n",
        "from PIL import Image\n",
        "\n",
        "input_directory = '/content/drive/MyDrive/training_data'\n",
        "\n",
        "for filename in os.listdir(input_directory):\n",
        "  path1=input_directory+'/'+filename\n",
        "  for filename1 in os.listdir(path1):\n",
        "\n",
        "    if filename1.endswith(\".jpeg\") or filename1.endswith(\".png\") or filename1.endswith(\".jpg\"):\n",
        "        img_path = os.path.join(path1, filename1)\n",
        "        img = Image.open(img_path)\n",
        "        rotated_img = img.rotate(90, expand=True)\n",
        "        output_path = os.path.join(path1, f\"{filename1[:-4]}_rotated.png\")\n",
        "        rotated_img.save(output_path)\n",
        "        img = Image.open(output_path)\n",
        "        rotated_img = img.rotate(90, expand=True)\n",
        "        output_path = os.path.join(path1, f\"{filename1[:-4]}_rotated1.png\")\n",
        "        rotated_img.save(output_path)\n",
        "        img = Image.open(output_path)\n",
        "        rotated_img = img.rotate(90, expand=True)\n",
        "        output_path = os.path.join(path1, f\"{filename1[:-4]}_rotated2.png\")\n",
        "        rotated_img.save(output_path)\n",
        "\n"
      ],
      "metadata": {
        "id": "li0y0WjH8rht"
      },
      "execution_count": null,
      "outputs": []
    },
    {
      "cell_type": "markdown",
      "source": [
        "This is a pipeline to preprocess all the images from the augumented images"
      ],
      "metadata": {
        "id": "drTFDwWn-B2h"
      }
    },
    {
      "cell_type": "code",
      "source": [
        "import tensorflow as tf\n",
        "from tensorflow.keras.preprocessing.image import ImageDataGenerator\n",
        "\n",
        "# Define data generators with augmentation\n",
        "train_datagen = ImageDataGenerator(\n",
        "    rescale=1./255,\n",
        "\n",
        "    #horizontal_flip=True,\n",
        "    fill_mode='nearest'\n",
        ")\n",
        "\n",
        "val_datagen = ImageDataGenerator(rescale=1./255)\n",
        "\n",
        "# Create generators\n",
        "batch_size = 32\n",
        "\n",
        "train_generator = train_datagen.flow_from_directory(\n",
        "    dest_train_path,\n",
        "    target_size=(150, 150),\n",
        "    batch_size=batch_size,\n",
        "    class_mode='categorical'\n",
        ")\n",
        "\n",
        "val_generator = val_datagen.flow_from_directory(\n",
        "    dest_val_path,\n",
        "    target_size=(150, 150),\n",
        "    batch_size=batch_size,\n",
        "    class_mode='categorical'\n",
        ")\n"
      ],
      "metadata": {
        "colab": {
          "base_uri": "https://localhost:8080/"
        },
        "id": "JoNJCDvakxCH",
        "outputId": "40e86a0f-22ac-4a17-9c17-5e2e2bf984bf"
      },
      "execution_count": null,
      "outputs": [
        {
          "output_type": "stream",
          "name": "stdout",
          "text": [
            "Found 1466 images belonging to 30 classes.\n",
            "Found 120 images belonging to 30 classes.\n"
          ]
        }
      ]
    },
    {
      "cell_type": "markdown",
      "source": [
        "3) Fine-tune a pretrained neural network of your choice on the training data from the previous step. Before fine-tuning, you should remove the top layer of the pretrained network and add at least two more layers with a softmax activation function (your output layer should have 30 neurons and the layer before the output layer should have 8 neurons). For fine-tuning, you should first train for a few epochs only weights in the layers that you added"
      ],
      "metadata": {
        "id": "xRut2N5r-Nl1"
      }
    },
    {
      "cell_type": "code",
      "source": [
        "from tensorflow.keras.layers import Dropout, BatchNormalization\n",
        "from tensorflow.keras.applications import VGG16\n",
        "from tensorflow.keras.models import Sequential\n",
        "from tensorflow.keras.layers import Dense, Flatten\n",
        "from tensorflow.keras.utils import get_file\n",
        "\n",
        "# Download and cache the VGG16 weights\n",
        "weights_path = get_file('vgg16_weights_tf_dim_ordering_tf_kernels_notop.h5',\n",
        "                         'https://github.com/fchollet/deep-learning-models/releases/download/v0.1/vgg16_weights_tf_dim_ordering_tf_kernels_notop.h5',\n",
        "                         cache_subdir='models',\n",
        "                         file_hash='6d6bbae143d832006294945121d1f1fc')\n",
        "\n",
        "# Load pretrained VGG16 model with downloaded weights\n",
        "base_model = VGG16(weights=weights_path, include_top=False, input_shape=(150, 150, 3))\n",
        "\n",
        "# Freeze the base model\n",
        "base_model.trainable = False\n",
        "\n",
        "# Add custom layers\n",
        "\"\"\"model = Sequential([\n",
        "    base_model,\n",
        "    Flatten(),\n",
        "    Dense(128, activation='elu'),\n",
        "\n",
        "    Dense(128, activation='elu'),\n",
        "    Dense(64,activation=\"elu\"),\n",
        "    BatchNormalization(),\n",
        "\n",
        "\n",
        "\n",
        "    Dense(8, activation='elu'),\n",
        "    BatchNormalization(),\n",
        "    Dense(30, activation='softmax')\n",
        "])\"\"\"\n",
        "\n",
        "model = Sequential([\n",
        "    base_model,\n",
        "    Flatten(),\n",
        "    Dense(256, activation='elu'),  # Increase the number of neurons in the first Dense layer\n",
        "\n",
        "    Dense(128, activation='elu'),  # Add another Dense layer with more neurons\n",
        "    Dropout(0.5),  # Add a Dropout layer for regularization\n",
        "\n",
        "    Dense(64, activation='elu'),  # Add another Dense layer with more neurons\n",
        "    Dropout(0.5),  # Add a Dropout layer for regularization\n",
        "\n",
        "    Dense(32, activation='elu'),  # Add another Dense layer with more neurons\n",
        "    BatchNormalization(),  # Add BatchNormalization for stabilization\n",
        "\n",
        "    Dense(8, activation='elu'),  # Keep the existing Dense layer\n",
        "    BatchNormalization(),  # Add BatchNormalization for stabilization\n",
        "\n",
        "    Dense(30, activation='softmax')  # Keep the existing output layer\n",
        "])\n",
        "\n",
        "# Compile the model\n",
        "model.compile(optimizer=tf.keras.optimizers.Adam(learning_rate=0.001),\n",
        "              loss='categorical_crossentropy',\n",
        "              metrics=['accuracy'])"
      ],
      "metadata": {
        "id": "KG4zAbkkk2Hz",
        "colab": {
          "base_uri": "https://localhost:8080/"
        },
        "outputId": "500b1d3f-a834-42f1-c450-8571270b13a1"
      },
      "execution_count": null,
      "outputs": [
        {
          "output_type": "stream",
          "name": "stdout",
          "text": [
            "Downloading data from https://github.com/fchollet/deep-learning-models/releases/download/v0.1/vgg16_weights_tf_dim_ordering_tf_kernels_notop.h5\n",
            "58889256/58889256 [==============================] - 1s 0us/step\n"
          ]
        }
      ]
    },
    {
      "cell_type": "code",
      "source": [
        "base_model.summary()"
      ],
      "metadata": {
        "colab": {
          "base_uri": "https://localhost:8080/"
        },
        "id": "ST5tbKbilCtX",
        "outputId": "3eb410ff-ed19-43eb-e146-745d282b9367"
      },
      "execution_count": null,
      "outputs": [
        {
          "output_type": "stream",
          "name": "stdout",
          "text": [
            "Model: \"vgg16\"\n",
            "_________________________________________________________________\n",
            " Layer (type)                Output Shape              Param #   \n",
            "=================================================================\n",
            " input_1 (InputLayer)        [(None, 150, 150, 3)]     0         \n",
            "                                                                 \n",
            " block1_conv1 (Conv2D)       (None, 150, 150, 64)      1792      \n",
            "                                                                 \n",
            " block1_conv2 (Conv2D)       (None, 150, 150, 64)      36928     \n",
            "                                                                 \n",
            " block1_pool (MaxPooling2D)  (None, 75, 75, 64)        0         \n",
            "                                                                 \n",
            " block2_conv1 (Conv2D)       (None, 75, 75, 128)       73856     \n",
            "                                                                 \n",
            " block2_conv2 (Conv2D)       (None, 75, 75, 128)       147584    \n",
            "                                                                 \n",
            " block2_pool (MaxPooling2D)  (None, 37, 37, 128)       0         \n",
            "                                                                 \n",
            " block3_conv1 (Conv2D)       (None, 37, 37, 256)       295168    \n",
            "                                                                 \n",
            " block3_conv2 (Conv2D)       (None, 37, 37, 256)       590080    \n",
            "                                                                 \n",
            " block3_conv3 (Conv2D)       (None, 37, 37, 256)       590080    \n",
            "                                                                 \n",
            " block3_pool (MaxPooling2D)  (None, 18, 18, 256)       0         \n",
            "                                                                 \n",
            " block4_conv1 (Conv2D)       (None, 18, 18, 512)       1180160   \n",
            "                                                                 \n",
            " block4_conv2 (Conv2D)       (None, 18, 18, 512)       2359808   \n",
            "                                                                 \n",
            " block4_conv3 (Conv2D)       (None, 18, 18, 512)       2359808   \n",
            "                                                                 \n",
            " block4_pool (MaxPooling2D)  (None, 9, 9, 512)         0         \n",
            "                                                                 \n",
            " block5_conv1 (Conv2D)       (None, 9, 9, 512)         2359808   \n",
            "                                                                 \n",
            " block5_conv2 (Conv2D)       (None, 9, 9, 512)         2359808   \n",
            "                                                                 \n",
            " block5_conv3 (Conv2D)       (None, 9, 9, 512)         2359808   \n",
            "                                                                 \n",
            " block5_pool (MaxPooling2D)  (None, 4, 4, 512)         0         \n",
            "                                                                 \n",
            "=================================================================\n",
            "Total params: 14714688 (56.13 MB)\n",
            "Trainable params: 0 (0.00 Byte)\n",
            "Non-trainable params: 14714688 (56.13 MB)\n",
            "_________________________________________________________________\n"
          ]
        }
      ]
    },
    {
      "cell_type": "code",
      "source": [
        "model.summary()"
      ],
      "metadata": {
        "colab": {
          "base_uri": "https://localhost:8080/"
        },
        "id": "wloc5zjl2q7c",
        "outputId": "e3d11c60-4e06-4379-f4ab-9e98684d77e7"
      },
      "execution_count": null,
      "outputs": [
        {
          "output_type": "stream",
          "name": "stdout",
          "text": [
            "Model: \"sequential\"\n",
            "_________________________________________________________________\n",
            " Layer (type)                Output Shape              Param #   \n",
            "=================================================================\n",
            " vgg16 (Functional)          (None, 4, 4, 512)         14714688  \n",
            "                                                                 \n",
            " flatten (Flatten)           (None, 8192)              0         \n",
            "                                                                 \n",
            " dense (Dense)               (None, 256)               2097408   \n",
            "                                                                 \n",
            " dense_1 (Dense)             (None, 128)               32896     \n",
            "                                                                 \n",
            " dropout (Dropout)           (None, 128)               0         \n",
            "                                                                 \n",
            " dense_2 (Dense)             (None, 64)                8256      \n",
            "                                                                 \n",
            " dropout_1 (Dropout)         (None, 64)                0         \n",
            "                                                                 \n",
            " dense_3 (Dense)             (None, 32)                2080      \n",
            "                                                                 \n",
            " batch_normalization (Batch  (None, 32)                128       \n",
            " Normalization)                                                  \n",
            "                                                                 \n",
            " dense_4 (Dense)             (None, 8)                 264       \n",
            "                                                                 \n",
            " batch_normalization_1 (Bat  (None, 8)                 32        \n",
            " chNormalization)                                                \n",
            "                                                                 \n",
            " dense_5 (Dense)             (None, 30)                270       \n",
            "                                                                 \n",
            "=================================================================\n",
            "Total params: 16856022 (64.30 MB)\n",
            "Trainable params: 2141254 (8.17 MB)\n",
            "Non-trainable params: 14714768 (56.13 MB)\n",
            "_________________________________________________________________\n"
          ]
        }
      ]
    },
    {
      "cell_type": "markdown",
      "source": [
        "3) After that, you should train all the weights"
      ],
      "metadata": {
        "id": "tOvFgIlT-eCe"
      }
    },
    {
      "cell_type": "code",
      "source": [
        "from scipy import ndimage  # Explicitly import ndimage from SciPy\n",
        "from tensorflow.keras.applications import VGG16\n",
        "from tensorflow.keras.models import Sequential\n",
        "from tensorflow.keras.layers import Dense, Flatten, Dropout\n",
        "from tensorflow.keras.utils import get_file\n",
        "import matplotlib.pyplot as plt\n",
        "import numpy as np\n",
        "from scipy.spatial import procrustes\n",
        "\n",
        "# Your previous code for downloading VGG16 and setting up the model\n",
        "\n",
        "# Step 4: Fine-tune the Pretrained VGG16 Model\n",
        "\n",
        "# Train only the custom layers\n",
        "history_initial = model.fit(train_generator, validation_data=val_generator, epochs=40)\n",
        "\n",
        "# Unfreeze the base model\n",
        "base_model.trainable = True\n",
        "\n",
        "# Compile the model again\n",
        "#model.compile(optimizer='adam', loss='categorical_crossentropy', metrics=['accuracy'])\n",
        "\n",
        "model.compile(optimizer=tf.keras.optimizers.Adam(learning_rate=0.001),\n",
        "              loss='categorical_crossentropy',\n",
        "              metrics=['accuracy'])\n",
        "\n",
        "# Continue training\n",
        "history_finetune = model.fit(train_generator, validation_data=val_generator, epochs=70, initial_epoch=40)\n",
        "\n",
        "# Plotting\n",
        "def plot_history(history):\n",
        "    plt.figure(figsize=(12, 4))\n",
        "\n",
        "    plt.subplot(1, 2, 1)\n",
        "    plt.plot(history.history['loss'], label='Train Loss')\n",
        "    plt.plot(history.history['val_loss'], label='Validation Loss')\n",
        "    plt.title('Loss')\n",
        "    plt.legend()\n",
        "\n",
        "    plt.subplot(1, 2, 2)\n",
        "    plt.plot(history.history['accuracy'], label='Train Accuracy')\n",
        "    plt.plot(history.history['val_accuracy'], label='Validation Accuracy')\n",
        "    plt.title('Accuracy')\n",
        "    plt.legend()\n",
        "\n",
        "    plt.show()"
      ],
      "metadata": {
        "colab": {
          "base_uri": "https://localhost:8080/"
        },
        "id": "yyBfZVG5lGwp",
        "outputId": "e2a15ddf-fe74-45a6-9dfa-e50ebd26cf73"
      },
      "execution_count": null,
      "outputs": [
        {
          "output_type": "stream",
          "name": "stdout",
          "text": [
            "Epoch 1/40\n",
            "46/46 [==============================] - 33s 711ms/step - loss: 2.8355 - accuracy: 0.1146 - val_loss: 3.5568 - val_accuracy: 0.0417\n",
            "Epoch 2/40\n",
            "46/46 [==============================] - 32s 702ms/step - loss: 2.8295 - accuracy: 0.1173 - val_loss: 3.2337 - val_accuracy: 0.0750\n",
            "Epoch 3/40\n",
            "46/46 [==============================] - 32s 683ms/step - loss: 2.7928 - accuracy: 0.1289 - val_loss: 3.2258 - val_accuracy: 0.0500\n",
            "Epoch 4/40\n",
            "46/46 [==============================] - 32s 696ms/step - loss: 2.7498 - accuracy: 0.1323 - val_loss: 3.2332 - val_accuracy: 0.0500\n",
            "Epoch 5/40\n",
            "46/46 [==============================] - 31s 682ms/step - loss: 2.7817 - accuracy: 0.1180 - val_loss: 3.3951 - val_accuracy: 0.0833\n",
            "Epoch 6/40\n",
            "46/46 [==============================] - 31s 671ms/step - loss: 2.7518 - accuracy: 0.1323 - val_loss: 3.2874 - val_accuracy: 0.0500\n",
            "Epoch 7/40\n",
            "46/46 [==============================] - 32s 687ms/step - loss: 2.7336 - accuracy: 0.1337 - val_loss: 3.3855 - val_accuracy: 0.0417\n",
            "Epoch 8/40\n",
            "46/46 [==============================] - 31s 669ms/step - loss: 2.7032 - accuracy: 0.1351 - val_loss: 3.3027 - val_accuracy: 0.0417\n",
            "Epoch 9/40\n",
            "46/46 [==============================] - 31s 670ms/step - loss: 2.7273 - accuracy: 0.1207 - val_loss: 3.4186 - val_accuracy: 0.0500\n",
            "Epoch 10/40\n",
            "46/46 [==============================] - 31s 668ms/step - loss: 2.7243 - accuracy: 0.1344 - val_loss: 3.3754 - val_accuracy: 0.0417\n",
            "Epoch 11/40\n",
            "46/46 [==============================] - 31s 676ms/step - loss: 2.7047 - accuracy: 0.1187 - val_loss: 3.3041 - val_accuracy: 0.0750\n",
            "Epoch 12/40\n",
            "46/46 [==============================] - 32s 686ms/step - loss: 2.6288 - accuracy: 0.1357 - val_loss: 3.4326 - val_accuracy: 0.0417\n",
            "Epoch 13/40\n",
            "46/46 [==============================] - 31s 670ms/step - loss: 2.5961 - accuracy: 0.1432 - val_loss: 3.3689 - val_accuracy: 0.0333\n",
            "Epoch 14/40\n",
            "46/46 [==============================] - 31s 671ms/step - loss: 2.6052 - accuracy: 0.1282 - val_loss: 3.3799 - val_accuracy: 0.0500\n",
            "Epoch 15/40\n",
            "46/46 [==============================] - 31s 670ms/step - loss: 2.5773 - accuracy: 0.1446 - val_loss: 3.5476 - val_accuracy: 0.0333\n",
            "Epoch 16/40\n",
            "46/46 [==============================] - 32s 685ms/step - loss: 2.5697 - accuracy: 0.1494 - val_loss: 3.3555 - val_accuracy: 0.0333\n",
            "Epoch 17/40\n",
            "46/46 [==============================] - 31s 677ms/step - loss: 2.5571 - accuracy: 0.1596 - val_loss: 3.3622 - val_accuracy: 0.0667\n",
            "Epoch 18/40\n",
            "46/46 [==============================] - 31s 666ms/step - loss: 2.5247 - accuracy: 0.1494 - val_loss: 3.4104 - val_accuracy: 0.0333\n",
            "Epoch 19/40\n",
            "46/46 [==============================] - 31s 668ms/step - loss: 2.5447 - accuracy: 0.1432 - val_loss: 3.8281 - val_accuracy: 0.0417\n",
            "Epoch 20/40\n",
            "46/46 [==============================] - 33s 707ms/step - loss: 2.5117 - accuracy: 0.1487 - val_loss: 3.5114 - val_accuracy: 0.0417\n",
            "Epoch 21/40\n",
            "46/46 [==============================] - 31s 668ms/step - loss: 2.4945 - accuracy: 0.1371 - val_loss: 3.4852 - val_accuracy: 0.0333\n",
            "Epoch 22/40\n",
            "46/46 [==============================] - 31s 659ms/step - loss: 2.4726 - accuracy: 0.1439 - val_loss: 3.4912 - val_accuracy: 0.0833\n",
            "Epoch 23/40\n",
            "46/46 [==============================] - 31s 662ms/step - loss: 2.4409 - accuracy: 0.1617 - val_loss: 3.5355 - val_accuracy: 0.0333\n",
            "Epoch 24/40\n",
            "46/46 [==============================] - 31s 661ms/step - loss: 2.4079 - accuracy: 0.1698 - val_loss: 3.4969 - val_accuracy: 0.0583\n",
            "Epoch 25/40\n",
            "46/46 [==============================] - 32s 686ms/step - loss: 2.4078 - accuracy: 0.1808 - val_loss: 3.4929 - val_accuracy: 0.0667\n",
            "Epoch 26/40\n",
            "46/46 [==============================] - 31s 669ms/step - loss: 2.4289 - accuracy: 0.1562 - val_loss: 3.4713 - val_accuracy: 0.0583\n",
            "Epoch 27/40\n",
            "46/46 [==============================] - 31s 666ms/step - loss: 2.4028 - accuracy: 0.1617 - val_loss: 3.7795 - val_accuracy: 0.0250\n",
            "Epoch 28/40\n",
            "46/46 [==============================] - 31s 668ms/step - loss: 2.4052 - accuracy: 0.1630 - val_loss: 3.4491 - val_accuracy: 0.0583\n",
            "Epoch 29/40\n",
            "46/46 [==============================] - 31s 662ms/step - loss: 2.3921 - accuracy: 0.1658 - val_loss: 3.5114 - val_accuracy: 0.1000\n",
            "Epoch 30/40\n",
            "46/46 [==============================] - 31s 675ms/step - loss: 2.3411 - accuracy: 0.1869 - val_loss: 3.4934 - val_accuracy: 0.0750\n",
            "Epoch 31/40\n",
            "46/46 [==============================] - 31s 675ms/step - loss: 2.3367 - accuracy: 0.1651 - val_loss: 3.5869 - val_accuracy: 0.0250\n",
            "Epoch 32/40\n",
            "46/46 [==============================] - 31s 672ms/step - loss: 2.3734 - accuracy: 0.1528 - val_loss: 3.5474 - val_accuracy: 0.0583\n",
            "Epoch 33/40\n",
            "46/46 [==============================] - 31s 670ms/step - loss: 2.3668 - accuracy: 0.1658 - val_loss: 3.7888 - val_accuracy: 0.0250\n",
            "Epoch 34/40\n",
            "46/46 [==============================] - 32s 680ms/step - loss: 2.3455 - accuracy: 0.1528 - val_loss: 3.6157 - val_accuracy: 0.0667\n",
            "Epoch 35/40\n",
            "46/46 [==============================] - 31s 675ms/step - loss: 2.3417 - accuracy: 0.1760 - val_loss: 3.6395 - val_accuracy: 0.1000\n",
            "Epoch 36/40\n",
            "46/46 [==============================] - 31s 669ms/step - loss: 2.3306 - accuracy: 0.1596 - val_loss: 3.7153 - val_accuracy: 0.0667\n",
            "Epoch 37/40\n",
            "46/46 [==============================] - 31s 673ms/step - loss: 2.2860 - accuracy: 0.1678 - val_loss: 3.5900 - val_accuracy: 0.0750\n",
            "Epoch 38/40\n",
            "46/46 [==============================] - 33s 711ms/step - loss: 2.3259 - accuracy: 0.1589 - val_loss: 3.7735 - val_accuracy: 0.0333\n",
            "Epoch 39/40\n",
            "46/46 [==============================] - 31s 681ms/step - loss: 2.3142 - accuracy: 0.1651 - val_loss: 3.7755 - val_accuracy: 0.0583\n",
            "Epoch 40/40\n",
            "46/46 [==============================] - 31s 672ms/step - loss: 2.3085 - accuracy: 0.1794 - val_loss: 3.7629 - val_accuracy: 0.0750\n",
            "Epoch 41/70\n",
            "46/46 [==============================] - 38s 665ms/step - loss: 2.3327 - accuracy: 0.1623 - val_loss: 3.7361 - val_accuracy: 0.0750\n",
            "Epoch 42/70\n",
            "46/46 [==============================] - 31s 671ms/step - loss: 2.2943 - accuracy: 0.1678 - val_loss: 3.7790 - val_accuracy: 0.0667\n",
            "Epoch 43/70\n",
            "46/46 [==============================] - 32s 703ms/step - loss: 2.2803 - accuracy: 0.1801 - val_loss: 3.9089 - val_accuracy: 0.0500\n",
            "Epoch 44/70\n",
            "46/46 [==============================] - 32s 696ms/step - loss: 2.2878 - accuracy: 0.1746 - val_loss: 3.8700 - val_accuracy: 0.0583\n",
            "Epoch 45/70\n",
            "46/46 [==============================] - 31s 679ms/step - loss: 2.2908 - accuracy: 0.1583 - val_loss: 3.8750 - val_accuracy: 0.0667\n",
            "Epoch 46/70\n",
            "46/46 [==============================] - 31s 666ms/step - loss: 2.3018 - accuracy: 0.1658 - val_loss: 4.0122 - val_accuracy: 0.0500\n",
            "Epoch 47/70\n",
            "46/46 [==============================] - 31s 663ms/step - loss: 2.2568 - accuracy: 0.1794 - val_loss: 3.8098 - val_accuracy: 0.0667\n",
            "Epoch 48/70\n",
            "46/46 [==============================] - 31s 665ms/step - loss: 2.2233 - accuracy: 0.1937 - val_loss: 3.6915 - val_accuracy: 0.0583\n",
            "Epoch 49/70\n",
            "46/46 [==============================] - 32s 682ms/step - loss: 2.2617 - accuracy: 0.1753 - val_loss: 4.1678 - val_accuracy: 0.0333\n",
            "Epoch 50/70\n",
            "46/46 [==============================] - 31s 672ms/step - loss: 2.2507 - accuracy: 0.1726 - val_loss: 4.1061 - val_accuracy: 0.0333\n",
            "Epoch 51/70\n",
            "46/46 [==============================] - 31s 661ms/step - loss: 2.2477 - accuracy: 0.1862 - val_loss: 4.2901 - val_accuracy: 0.0417\n",
            "Epoch 52/70\n",
            "46/46 [==============================] - 31s 670ms/step - loss: 2.2619 - accuracy: 0.1746 - val_loss: 3.9615 - val_accuracy: 0.0500\n",
            "Epoch 53/70\n",
            "46/46 [==============================] - 31s 668ms/step - loss: 2.2639 - accuracy: 0.1808 - val_loss: 4.2269 - val_accuracy: 0.0583\n",
            "Epoch 54/70\n",
            "46/46 [==============================] - 31s 664ms/step - loss: 2.2478 - accuracy: 0.1767 - val_loss: 3.9404 - val_accuracy: 0.1000\n",
            "Epoch 55/70\n",
            "46/46 [==============================] - 31s 665ms/step - loss: 2.2190 - accuracy: 0.1896 - val_loss: 4.0040 - val_accuracy: 0.0667\n",
            "Epoch 56/70\n",
            "46/46 [==============================] - 31s 663ms/step - loss: 2.2138 - accuracy: 0.1814 - val_loss: 4.1701 - val_accuracy: 0.0417\n",
            "Epoch 57/70\n",
            "46/46 [==============================] - 31s 683ms/step - loss: 2.2001 - accuracy: 0.2005 - val_loss: 4.0871 - val_accuracy: 0.0250\n",
            "Epoch 58/70\n",
            "46/46 [==============================] - 30s 659ms/step - loss: 2.1838 - accuracy: 0.1821 - val_loss: 4.2101 - val_accuracy: 0.0500\n",
            "Epoch 59/70\n",
            "46/46 [==============================] - 31s 664ms/step - loss: 2.1892 - accuracy: 0.1842 - val_loss: 3.9378 - val_accuracy: 0.0667\n",
            "Epoch 60/70\n",
            "46/46 [==============================] - 31s 668ms/step - loss: 2.1973 - accuracy: 0.1896 - val_loss: 3.9480 - val_accuracy: 0.0583\n",
            "Epoch 61/70\n",
            "46/46 [==============================] - 32s 680ms/step - loss: 2.2345 - accuracy: 0.1739 - val_loss: 4.0385 - val_accuracy: 0.0417\n",
            "Epoch 62/70\n",
            "46/46 [==============================] - 31s 665ms/step - loss: 2.2049 - accuracy: 0.1917 - val_loss: 4.3345 - val_accuracy: 0.0167\n",
            "Epoch 63/70\n",
            "46/46 [==============================] - 31s 663ms/step - loss: 2.2081 - accuracy: 0.1958 - val_loss: 4.1569 - val_accuracy: 0.0583\n",
            "Epoch 64/70\n",
            "46/46 [==============================] - 31s 662ms/step - loss: 2.1933 - accuracy: 0.2128 - val_loss: 4.0667 - val_accuracy: 0.0417\n",
            "Epoch 65/70\n",
            "46/46 [==============================] - 32s 700ms/step - loss: 2.2723 - accuracy: 0.1705 - val_loss: 4.5362 - val_accuracy: 0.0417\n",
            "Epoch 66/70\n",
            "46/46 [==============================] - 31s 663ms/step - loss: 2.2361 - accuracy: 0.1739 - val_loss: 4.1421 - val_accuracy: 0.0667\n",
            "Epoch 67/70\n",
            "46/46 [==============================] - 31s 661ms/step - loss: 2.1816 - accuracy: 0.1889 - val_loss: 4.1629 - val_accuracy: 0.0417\n",
            "Epoch 68/70\n",
            "46/46 [==============================] - 32s 690ms/step - loss: 2.1764 - accuracy: 0.1883 - val_loss: 4.1554 - val_accuracy: 0.0583\n",
            "Epoch 69/70\n",
            "46/46 [==============================] - 32s 692ms/step - loss: 2.1564 - accuracy: 0.2033 - val_loss: 4.1321 - val_accuracy: 0.0333\n",
            "Epoch 70/70\n",
            "46/46 [==============================] - 31s 679ms/step - loss: 2.1587 - accuracy: 0.1924 - val_loss: 4.2174 - val_accuracy: 0.0500\n"
          ]
        }
      ]
    },
    {
      "cell_type": "markdown",
      "source": [
        "Display train and validation loss and accuracy during the training and make a plot showing train and validation loss and accuracy as a function of the training epoch"
      ],
      "metadata": {
        "id": "BiajuzsA-qqj"
      }
    },
    {
      "cell_type": "code",
      "source": [
        "plot_history(history_initial)\n",
        "plot_history(history_finetune)"
      ],
      "metadata": {
        "colab": {
          "base_uri": "https://localhost:8080/",
          "height": 765
        },
        "id": "sq3mfCAX0DFF",
        "outputId": "872b7ddd-e4b1-445d-a92f-686140b3b73d"
      },
      "execution_count": null,
      "outputs": [
        {
          "output_type": "display_data",
          "data": {
            "text/plain": [
              "<Figure size 1200x400 with 2 Axes>"
            ],
            "image/png": "[encoded data removed]"
          },
          "metadata": {}
        },
        {
          "output_type": "display_data",
          "data": {
            "text/plain": [
              "<Figure size 1200x400 with 2 Axes>"
            ],
            "image/png": "[encoded data removed]"
          },
          "metadata": {}
        }
      ]
    },
    {
      "cell_type": "markdown",
      "source": [
        "The first two are the plots showing the train and validation loss and accuracy for the base model without finetuning for 40 epochs.(froze the base model in our case vgg16)\n",
        "\n",
        "Then we fine tuned it and the results for 30 epochs are in the next two plots."
      ],
      "metadata": {
        "id": "3KLGAGtG_KV5"
      }
    },
    {
      "cell_type": "markdown",
      "source": [
        " 3) Discuss your findings - comment on the performance of the network , convergence , and possible hyperparameter tweaks you tried, or you would try to improve the performance"
      ],
      "metadata": {
        "id": "KtgyOIdY_-di"
      }
    },
    {
      "cell_type": "markdown",
      "source": [
        "As we can see the performance of the network is noot that great but we did try with a lot of other hyper parametersbut these are the best parameters we obtained.\n",
        "\n",
        "The train accuracy we obtained was 21% and the validation accuracy was 10%.\n",
        "\n",
        "We first tried with 20 epochs as suggested but the network didn't converge, so we trained it for another 50 epochs. So in total we trained it for 70 epochs.\n",
        "\n",
        "The hyperparameter tweaks we tried were -\n",
        "- We used 6 dense layers\n",
        "- We first used Relu as our activation function, which led to vanishing gradient which meant the Relu was dying. Then we used ELU as our activation function and used BatchNormalization.\n",
        "- We used dropout to be 0.5 to avoid overfitting of the model as we faced this issue initially training our model."
      ],
      "metadata": {
        "id": "IZaZYr-MALlF"
      }
    },
    {
      "cell_type": "code",
      "source": [
        "model.save('/content/drive/My Drive/models/latest_vgg16_model.h5')\n"
      ],
      "metadata": {
        "colab": {
          "base_uri": "https://localhost:8080/"
        },
        "id": "uOBOMjBhmw2z",
        "outputId": "958d2c3c-1ce7-4da9-8101-e5c662a32ef0"
      },
      "execution_count": null,
      "outputs": [
        {
          "output_type": "stream",
          "name": "stderr",
          "text": [
            "/usr/local/lib/python3.10/dist-packages/keras/src/engine/training.py:3103: UserWarning: You are saving your model as an HDF5 file via `model.save()`. This file format is considered legacy. We recommend using instead the native Keras format, e.g. `model.save('my_model.keras')`.\n",
            "  saving_api.save_model(\n"
          ]
        }
      ]
    },
    {
      "cell_type": "code",
      "source": [],
      "metadata": {
        "id": "zENMGARF16cM"
      },
      "execution_count": null,
      "outputs": []
    },
    {
      "cell_type": "code",
      "source": [
        "from tensorflow.keras.models import load_model\n",
        "model_path = '/content/drive/My Drive/models/latest_vgg16_model.h5'\n",
        "\n",
        "# Load the model\n",
        "loaded_model = load_model(model_path)"
      ],
      "metadata": {
        "id": "vP3fartgm4qc"
      },
      "execution_count": 3,
      "outputs": []
    },
    {
      "cell_type": "code",
      "source": [
        "path_360 ='/content/drive/MyDrive/forhw4_360'\n",
        "path_120='/content/drive/MyDrive/forhw4_120'"
      ],
      "metadata": {
        "id": "5IRu3ijhm40N"
      },
      "execution_count": 4,
      "outputs": []
    },
    {
      "cell_type": "code",
      "source": [
        "import numpy as np\n",
        "from skimage import io\n",
        "import os\n",
        "def get_img_lab(path):\n",
        "    image_list=[]\n",
        "    #label_list=[]\n",
        "    #label_encode = {'I': 0, 'M': 1, 'S': 2}\n",
        "    for image in os.listdir(path):\n",
        "        single_image = io.imread(os.path.join(path,image))\n",
        "\n",
        "        resize_g_img = np.resize(single_image, (150, 150, 3))\n",
        "\n",
        "        image_list.append(np.array(resize_g_img))\n",
        "        #label_list.append(label_encode[image[0]])\n",
        "\n",
        "    return np.array(image_list)\n",
        "\n",
        "images_360= get_img_lab(path_360)"
      ],
      "metadata": {
        "id": "imIUkvROm4xG"
      },
      "execution_count": 5,
      "outputs": []
    },
    {
      "cell_type": "code",
      "source": [
        "import numpy as np\n",
        "from skimage import io\n",
        "import os\n",
        "def get_img_lab(path):\n",
        "    image_list=[]\n",
        "    #label_list=[]\n",
        "    #label_encode = {'I': 0, 'M': 1, 'S': 2}\n",
        "    for image in os.listdir(path):\n",
        "        single_image = io.imread(os.path.join(path,image))\n",
        "\n",
        "        resize_g_img = np.resize(single_image, (150, 150, 3))\n",
        "\n",
        "        image_list.append(np.array(resize_g_img))\n",
        "        #label_list.append(label_encode[image[0]])\n",
        "\n",
        "    return np.array(image_list)\n",
        "\n",
        "images_120= get_img_lab(path_120)"
      ],
      "metadata": {
        "id": "2MwiWVQ-1167"
      },
      "execution_count": 6,
      "outputs": []
    },
    {
      "cell_type": "code",
      "source": [
        "images_360.shape"
      ],
      "metadata": {
        "colab": {
          "base_uri": "https://localhost:8080/"
        },
        "id": "epiQ94hTv9Zb",
        "outputId": "5085b5b7-3652-46a9-aa99-c406cf85aa14"
      },
      "execution_count": null,
      "outputs": [
        {
          "output_type": "execute_result",
          "data": {
            "text/plain": [
              "(360, 150, 150, 3)"
            ]
          },
          "metadata": {},
          "execution_count": 16
        }
      ]
    },
    {
      "cell_type": "code",
      "source": [
        "import numpy as np\n",
        "\n",
        "# Assuming you have your model loaded as 'model'\n",
        "# Assuming 'images_360' is your array of images\n",
        "\n",
        "# Reshape the images array to fit the model input shape\n",
        "images_reshaped = images_360.reshape(-1, 150, 150, 3)\n",
        "\n",
        "# Normalize pixel values to the range [0, 1] (if required by the model)\n",
        "images_normalized = images_reshaped / 255.0\n",
        "\n",
        "# Make predictions using the model\n",
        "predictions = loaded_model.predict(images_normalized)\n"
      ],
      "metadata": {
        "id": "iNhBo4LI1hdi",
        "outputId": "90956f88-5584-4c8f-cdc2-77a2d2e68766",
        "colab": {
          "base_uri": "https://localhost:8080/"
        }
      },
      "execution_count": null,
      "outputs": [
        {
          "output_type": "stream",
          "name": "stdout",
          "text": [
            "12/12 [==============================] - 2s 190ms/step\n"
          ]
        }
      ]
    },
    {
      "cell_type": "code",
      "source": [
        "predictions.shape"
      ],
      "metadata": {
        "colab": {
          "base_uri": "https://localhost:8080/"
        },
        "id": "4R_aL_uo0f4E",
        "outputId": "61149dfd-a38b-44da-c17e-66cabccba7e6"
      },
      "execution_count": null,
      "outputs": [
        {
          "output_type": "execute_result",
          "data": {
            "text/plain": [
              "(360, 30)"
            ]
          },
          "metadata": {},
          "execution_count": 19
        }
      ]
    },
    {
      "cell_type": "markdown",
      "source": [
        "4) Compute the correlation coefficients between the network data and human data for each of the 8 neurons in your next-to-last layer (similar to HW3, using procrustes analysis) for the images from the train set (360 images) and (separately) for the images from the validation set (120 images). Report each of the 8 correlation coefficients and your average correlation coefficients."
      ],
      "metadata": {
        "id": "hEc-vSRuDYbs"
      }
    },
    {
      "cell_type": "code",
      "source": [
        "from tensorflow.keras.models import Model\n",
        "penultimate_model=Model(inputs = loaded_model.input, outputs = loaded_model.layers[-2].output)"
      ],
      "metadata": {
        "id": "wW2EER-F0jrC"
      },
      "execution_count": 9,
      "outputs": []
    },
    {
      "cell_type": "code",
      "source": [
        "penultimate_pred=penultimate_model(images_normalized)"
      ],
      "metadata": {
        "id": "bE5baXfA04oL"
      },
      "execution_count": null,
      "outputs": []
    },
    {
      "cell_type": "code",
      "source": [
        "penultimate_pred.shape"
      ],
      "metadata": {
        "colab": {
          "base_uri": "https://localhost:8080/"
        },
        "id": "9G8CYxD11AR3",
        "outputId": "51cbb388-8807-479d-dad0-00d024990114"
      },
      "execution_count": null,
      "outputs": [
        {
          "output_type": "execute_result",
          "data": {
            "text/plain": [
              "TensorShape([360, 8])"
            ]
          },
          "metadata": {},
          "execution_count": 22
        }
      ]
    },
    {
      "cell_type": "code",
      "source": [
        "print(\"Shape of human_data:\", human_data.shape)\n",
        "print(\"Shape of network_data:\", network_data.shape)\n"
      ],
      "metadata": {
        "colab": {
          "base_uri": "https://localhost:8080/"
        },
        "id": "Jls-lvGzz0ut",
        "outputId": "edf1358a-032b-404f-fc6d-a3374fdddd40"
      },
      "execution_count": null,
      "outputs": [
        {
          "output_type": "stream",
          "name": "stdout",
          "text": [
            "Shape of human_data: (360, 8)\n",
            "Shape of network_data: (360, 8)\n"
          ]
        }
      ]
    },
    {
      "cell_type": "code",
      "source": [
        "import numpy as np\n",
        "\n",
        "# Load the human data from the text file\n",
        "human_data = np.loadtxt('/content/drive/MyDrive/mds_360.txt')  # Adjust the file path as needed\n",
        "\n",
        "# Load the network data from penultimate_pred\n",
        "network_data = penultimate_pred.numpy()  # Assuming penultimate_pred is a TensorFlow tensor\n",
        "\n",
        "# Calculate the correlation coefficients between human_data and network_data\n",
        "correlation_coefficients = np.corrcoef(human_data.T, network_data.T)[human_data.shape[1]:, :human_data.shape[1]]\n",
        "\n",
        "# Print or use the correlation coefficients as needed\n",
        "print(\"Correlation coefficients:\", correlation_coefficients)\n"
      ],
      "metadata": {
        "colab": {
          "base_uri": "https://localhost:8080/"
        },
        "id": "myJLQPHj0sJV",
        "outputId": "f9beba9c-c51b-4407-9f1b-45a2f689ab2e"
      },
      "execution_count": null,
      "outputs": [
        {
          "output_type": "stream",
          "name": "stdout",
          "text": [
            "Correlation coefficients: [[-0.0785862  -0.00564767  0.09136356  0.07513919 -0.04298654 -0.04428143\n",
            "   0.02660954 -0.00736616]\n",
            " [ 0.06131596  0.00402699 -0.11420465 -0.07741169  0.0446779   0.03579576\n",
            "  -0.03163551  0.00244018]\n",
            " [-0.07884306 -0.00562573  0.09100579  0.07514732 -0.0429778  -0.04434682\n",
            "   0.02657722 -0.00751376]\n",
            " [-0.07383278 -0.0052691   0.0984036   0.07593755 -0.04339014 -0.04212704\n",
            "   0.02828331 -0.00593074]\n",
            " [-0.07901344 -0.00561678  0.09080871  0.07509187 -0.04294874 -0.04446054\n",
            "   0.02658134 -0.00759537]\n",
            " [-0.07382599 -0.00523929  0.09843179  0.07593725 -0.04344569 -0.0421105\n",
            "   0.02831218 -0.00594713]\n",
            " [ 0.06757923  0.00470635 -0.10665612 -0.07686295  0.0440931   0.03898696\n",
            "  -0.02999055  0.00406757]\n",
            " [-0.07384074 -0.00524619  0.09839147  0.07604741 -0.0434677  -0.04205024\n",
            "   0.02825927 -0.00596266]]\n"
          ]
        }
      ]
    },
    {
      "cell_type": "code",
      "source": [
        "network_data.shape"
      ],
      "metadata": {
        "colab": {
          "base_uri": "https://localhost:8080/"
        },
        "id": "389Om8S_1z3F",
        "outputId": "8bd61b59-be97-4765-81e6-20a1784e2ff2"
      },
      "execution_count": null,
      "outputs": [
        {
          "output_type": "execute_result",
          "data": {
            "text/plain": [
              "(360, 8)"
            ]
          },
          "metadata": {},
          "execution_count": 46
        }
      ]
    },
    {
      "cell_type": "code",
      "source": [
        "type(network_data)"
      ],
      "metadata": {
        "colab": {
          "base_uri": "https://localhost:8080/"
        },
        "id": "_sDZFBr22DtG",
        "outputId": "86abc549-6b73-421f-fb01-78056c9235f3"
      },
      "execution_count": null,
      "outputs": [
        {
          "output_type": "execute_result",
          "data": {
            "text/plain": [
              "numpy.ndarray"
            ]
          },
          "metadata": {},
          "execution_count": 48
        }
      ]
    },
    {
      "cell_type": "code",
      "source": [
        "mtx1, mtx2, disparity = procrustes(human_data, network_data)\n",
        "\n",
        "\n",
        "print(\"Transformation matrix for array1:\", mtx1)\n",
        "print(\"Transformation matrix for array2:\", mtx2)\n",
        "print(\"Disparity:\", disparity)\n"
      ],
      "metadata": {
        "colab": {
          "base_uri": "https://localhost:8080/"
        },
        "id": "HJC5cFJe2O73",
        "outputId": "02622853-3ffc-44ce-d73f-d546e852c598"
      },
      "execution_count": null,
      "outputs": [
        {
          "output_type": "stream",
          "name": "stdout",
          "text": [
            "Transformation matrix for array1: [[-0.02752123 -0.00393436  0.01071516 ... -0.01529132  0.02959598\n",
            "   0.01280227]\n",
            " [ 0.01639672  0.0165173   0.0033702  ... -0.00021824  0.04242074\n",
            "   0.00566696]\n",
            " [ 0.00203934  0.01554135 -0.03118582 ... -0.02826067 -0.00108514\n",
            "  -0.02008377]\n",
            " ...\n",
            " [-0.02558378 -0.02003399 -0.01953943 ... -0.01726491  0.00197285\n",
            "  -0.00813376]\n",
            " [-0.00083069 -0.01227696  0.01066455 ...  0.05165192 -0.01047599\n",
            "  -0.00980372]\n",
            " [ 0.00773602 -0.03065382  0.00335574 ...  0.03305095 -0.00167794\n",
            "  -0.00809038]]\n",
            "Transformation matrix for array2: [[ 2.37438454e-04  1.46533101e-05 -3.09134263e-04 ...  1.31297791e-04\n",
            "  -8.21992059e-05  8.08122111e-06]\n",
            " [ 2.37438454e-04  1.46533101e-05 -3.09134263e-04 ...  1.31297791e-04\n",
            "  -8.21992059e-05  8.08122111e-06]\n",
            " [ 2.37438454e-04  1.46533101e-05 -3.09134263e-04 ...  1.31297791e-04\n",
            "  -8.21992059e-05  8.08122111e-06]\n",
            " ...\n",
            " [ 2.37438454e-04  1.46533101e-05 -3.09134263e-04 ...  1.31297791e-04\n",
            "  -8.21992059e-05  8.08122111e-06]\n",
            " [ 2.37438454e-04  1.46533101e-05 -3.09134263e-04 ...  1.31297791e-04\n",
            "  -8.21992059e-05  8.08122111e-06]\n",
            " [ 2.37438454e-04  1.46533101e-05 -3.09134263e-04 ...  1.31297791e-04\n",
            "  -8.21992059e-05  8.08122111e-06]]\n",
            "Disparity: 0.9964843446166347\n"
          ]
        }
      ]
    },
    {
      "cell_type": "markdown",
      "source": [
        "The disparity of 360 dataset is **0.9964843446166347**"
      ],
      "metadata": {
        "id": "rx6-nI_TEB6V"
      }
    },
    {
      "cell_type": "code",
      "source": [
        "import numpy as np\n",
        "\n",
        "# Assuming you have your model loaded as 'model'\n",
        "# Assuming 'images_360' is your array of images\n",
        "\n",
        "# Reshape the images array to fit the model input shape\n",
        "images_reshaped = images_120.reshape(-1, 150, 150, 3)\n",
        "\n",
        "# Normalize pixel values to the range [0, 1] (if required by the model)\n",
        "images_normalized = images_reshaped / 255.0\n",
        "\n",
        "# Make predictions using the model\n",
        "predictions = loaded_model.predict(images_normalized)\n"
      ],
      "metadata": {
        "id": "-HQkIvtj2r7i",
        "colab": {
          "base_uri": "https://localhost:8080/"
        },
        "outputId": "ba20c148-a8e6-4fd9-89be-a890aa6871cb"
      },
      "execution_count": 7,
      "outputs": [
        {
          "output_type": "stream",
          "name": "stdout",
          "text": [
            "4/4 [==============================] - 33s 8s/step\n"
          ]
        }
      ]
    },
    {
      "cell_type": "code",
      "source": [
        "penultimate_pred=penultimate_model(images_normalized)"
      ],
      "metadata": {
        "id": "Wt3v0XbeFHki"
      },
      "execution_count": 10,
      "outputs": []
    },
    {
      "cell_type": "code",
      "source": [
        "import numpy as np\n",
        "\n",
        "# Load the human data from the text file\n",
        "human_data = np.loadtxt('/content/drive/MyDrive/mds_120.txt')  # Adjust the file path as needed\n",
        "\n",
        "# Load the network data from penultimate_pred\n",
        "network_data = penultimate_pred.numpy()  # Assuming penultimate_pred is a TensorFlow tensor\n",
        "\n",
        "# Calculate the correlation coefficients between human_data and network_data\n",
        "correlation_coefficients = np.corrcoef(human_data.T, network_data.T)[human_data.shape[1]:, :human_data.shape[1]]\n",
        "\n",
        "# Print or use the correlation coefficients as needed\n",
        "print(\"Correlation coefficients:\", correlation_coefficients)\n"
      ],
      "metadata": {
        "colab": {
          "base_uri": "https://localhost:8080/"
        },
        "id": "LYYf-1WkF5en",
        "outputId": "bcd02aad-e9cd-4143-d673-b2650877942e"
      },
      "execution_count": 11,
      "outputs": [
        {
          "output_type": "stream",
          "name": "stdout",
          "text": [
            "Correlation coefficients: [[ 0.05972022  0.08887403  0.00607444 -0.03894687  0.13497123 -0.02920232\n",
            "   0.09111766 -0.03481746]\n",
            " [-0.06179602 -0.09346203  0.01039397  0.04304732 -0.13226437  0.03084002\n",
            "  -0.07826985  0.03895035]\n",
            " [ 0.05985733  0.08873336  0.00633841 -0.03893116  0.13510678 -0.02938745\n",
            "   0.091131   -0.03492861]\n",
            " [ 0.06022332  0.08998289  0.00194935 -0.03988878  0.13429877 -0.03014246\n",
            "   0.0880403  -0.03610379]\n",
            " [ 0.05980085  0.08848566  0.00687736 -0.03885074  0.13522901 -0.02957464\n",
            "   0.09139091 -0.03485739]\n",
            " [ 0.0602738   0.09000784  0.00180703 -0.0400553   0.13429072 -0.03003753\n",
            "   0.08779599 -0.03607458]\n",
            " [-0.06111477 -0.09202418  0.00485684  0.04167445 -0.13316163  0.03017273\n",
            "  -0.08273497  0.03751293]\n",
            " [ 0.06047595  0.09010173  0.00148783 -0.04022471  0.13454691 -0.03002706\n",
            "   0.08721089 -0.03608589]]\n"
          ]
        }
      ]
    },
    {
      "cell_type": "code",
      "source": [
        "from scipy.spatial import procrustes\n",
        "mtx1, mtx2, disparity = procrustes(human_data, network_data)\n",
        "\n",
        "\n",
        "\n",
        "print(\"Disparity:\", disparity)\n"
      ],
      "metadata": {
        "colab": {
          "base_uri": "https://localhost:8080/"
        },
        "id": "fYNQRnpgGK9a",
        "outputId": "c09749f9-e884-407c-b8e2-8e3679492581"
      },
      "execution_count": 14,
      "outputs": [
        {
          "output_type": "stream",
          "name": "stdout",
          "text": [
            "Disparity: 0.9949834544919631\n"
          ]
        }
      ]
    },
    {
      "cell_type": "markdown",
      "source": [
        "The disparity of validation data(120 images ) is **0.9949834544919631**"
      ],
      "metadata": {
        "id": "M4T9b9Y5Gzjl"
      }
    }
  ]
}